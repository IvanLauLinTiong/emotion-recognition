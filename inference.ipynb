{
 "cells": [
  {
   "cell_type": "markdown",
   "id": "14d0d102",
   "metadata": {},
   "source": [
    "# Import Libs"
   ]
  },
  {
   "cell_type": "code",
   "execution_count": 12,
   "id": "1d09103e",
   "metadata": {},
   "outputs": [],
   "source": [
    "import torch\n",
    "import torch.nn as nn\n",
    "from torchvision import models, transforms\n",
    "import cv2"
   ]
  },
  {
   "cell_type": "markdown",
   "id": "02bc8d5e",
   "metadata": {},
   "source": [
    "# Configuration"
   ]
  },
  {
   "cell_type": "code",
   "execution_count": 13,
   "id": "5e89c41b",
   "metadata": {},
   "outputs": [],
   "source": [
    "classes = [\n",
    "    \"angry\", \n",
    "    \"disgust\", \n",
    "    \"fear\", \n",
    "    \"happy\", \n",
    "    \"sad\", \n",
    "    \"surprise\", \n",
    "    \"neutral\"\n",
    "]"
   ]
  },
  {
   "cell_type": "code",
   "execution_count": 14,
   "id": "7878651d",
   "metadata": {},
   "outputs": [],
   "source": [
    "INFER_ON_GPU = True"
   ]
  },
  {
   "cell_type": "markdown",
   "id": "eee236bb",
   "metadata": {},
   "source": [
    "# Loading Model"
   ]
  },
  {
   "cell_type": "code",
   "execution_count": 15,
   "id": "f1bcbb74",
   "metadata": {},
   "outputs": [],
   "source": [
    "MODEL_PATH = \"./model/model_epoch50_lr0.01_batch8.pt\""
   ]
  },
  {
   "cell_type": "code",
   "execution_count": 16,
   "id": "a2180d72",
   "metadata": {},
   "outputs": [],
   "source": [
    "# load model skeleton\n",
    "model = models.mobilenet.mobilenet_v2()"
   ]
  },
  {
   "cell_type": "code",
   "execution_count": 17,
   "id": "2a44fb59",
   "metadata": {},
   "outputs": [],
   "source": [
    "num_features = model.classifier[1].in_features\n",
    "model.classifier[1] = nn.Linear(num_features, len(classes))"
   ]
  },
  {
   "cell_type": "code",
   "execution_count": 18,
   "id": "fd341d8c",
   "metadata": {},
   "outputs": [
    {
     "name": "stdout",
     "output_type": "stream",
     "text": [
      "using cuda\n"
     ]
    }
   ],
   "source": [
    "# load model based on device type\n",
    "device = None\n",
    "if INFER_ON_GPU:\n",
    "    device = torch.device(\"cuda\")\n",
    "    model.load_state_dict(torch.load(MODEL_PATH))\n",
    "    model = model.to(device)\n",
    "else:\n",
    "    device = torch.device(\"cpu\")\n",
    "    model.load_state_dict(torch.load(MODEL_PATH, map_location=device))\n",
    "\n",
    "print(f'using {device}')"
   ]
  },
  {
   "cell_type": "markdown",
   "id": "83ec1227",
   "metadata": {},
   "source": [
    "# Real Time Video Inference"
   ]
  },
  {
   "cell_type": "code",
   "execution_count": 19,
   "id": "433b01f0",
   "metadata": {},
   "outputs": [],
   "source": [
    "# tranformations\n",
    "preprocess = transforms.Compose([\n",
    "    transforms.ToPILImage(),\n",
    "    transforms.Grayscale(3),\n",
    "    transforms.Resize(256),\n",
    "    transforms.ToTensor(),\n",
    "    transforms.Normalize(mean=[0.485, 0.456, 0.406], std=[0.229, 0.224, 0.225])\n",
    "])"
   ]
  },
  {
   "cell_type": "code",
   "execution_count": 20,
   "id": "53adf263",
   "metadata": {},
   "outputs": [],
   "source": [
    "# Start inference\n",
    "\n",
    "cap = cv2.VideoCapture(0)\n",
    "\n",
    "with torch.no_grad():    \n",
    "    while cap.isOpened():\n",
    "        ret, frame = cap.read() # (H, W, C)\n",
    "        if ret:\n",
    "            gray = cv2.cvtColor(frame, cv2.COLOR_BGR2GRAY)\n",
    "            face_cascade = cv2.CascadeClassifier(cv2.data.haarcascades + 'haarcascade_frontalface_default.xml')\n",
    "            faces = face_cascade.detectMultiScale(gray, 1.3, 5)\n",
    "            for (x, y, w, h) in faces:\n",
    "                roi_face_frame = frame[y:y+h, x:x+w]\n",
    "                \n",
    "\n",
    "                # preprocessing frame\n",
    "                img = torch.from_numpy(roi_face_frame)\n",
    "                img = img.permute(2, 0, 1) # (H, W, C) -> (C, H, W), channel last -> channel first\n",
    "                img = preprocess(img).to(device)\n",
    "                img.unsqueeze_(0)\n",
    "\n",
    "                # make detection\n",
    "                output = model(img)\n",
    "                _, preds = torch.max(output, 1)        \n",
    "                detected_emotion = classes[preds]\n",
    "\n",
    "\n",
    "                cv2.rectangle(frame, (x, y), (x+w, y+h), (255,0,0), 2)\n",
    "#                 print(detected_emotion)\n",
    "                cv2.putText(frame, detected_emotion, (x, y-10), cv2.FONT_HERSHEY_SIMPLEX, 0.65, (0, 0, 255), 2)\n",
    "                \n",
    "            cv2.imshow('Emotion Recognition', frame)\n",
    "\n",
    "            if cv2.waitKey(10) & 0xFF == ord('q'):\n",
    "                break\n",
    "            \n",
    "cap.release()\n",
    "cv2.destroyAllWindows()"
   ]
  },
  {
   "cell_type": "code",
   "execution_count": null,
   "id": "41bfd6ac",
   "metadata": {},
   "outputs": [],
   "source": []
  },
  {
   "cell_type": "code",
   "execution_count": null,
   "id": "54eb9b18",
   "metadata": {},
   "outputs": [],
   "source": []
  }
 ],
 "metadata": {
  "kernelspec": {
   "display_name": "Python 3 (ipykernel)",
   "language": "python",
   "name": "python3"
  },
  "language_info": {
   "codemirror_mode": {
    "name": "ipython",
    "version": 3
   },
   "file_extension": ".py",
   "mimetype": "text/x-python",
   "name": "python",
   "nbconvert_exporter": "python",
   "pygments_lexer": "ipython3",
   "version": "3.8.10"
  }
 },
 "nbformat": 4,
 "nbformat_minor": 5
}
