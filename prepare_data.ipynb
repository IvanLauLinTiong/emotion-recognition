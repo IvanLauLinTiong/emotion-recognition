{
 "cells": [
  {
   "cell_type": "code",
   "execution_count": 1,
   "id": "e69294f1",
   "metadata": {},
   "outputs": [],
   "source": [
    "import pandas as pd\n",
    "import numpy as np\n",
    "from PIL import Image\n",
    "import os\n",
    "from tqdm.auto import tqdm\n",
    "from IPython.display import display"
   ]
  },
  {
   "cell_type": "code",
   "execution_count": 2,
   "id": "ca49f876",
   "metadata": {},
   "outputs": [
    {
     "name": "stderr",
     "output_type": "stream",
     "text": [
      "Enabling notebook extension jupyter-js-widgets/extension...\n",
      "      - Validating: ok\n"
     ]
    }
   ],
   "source": [
    "# Uncomment this line to enable nbextension and restart the kernel before proceeding to next step\n",
    "!jupyter nbextension enable --py widgetsnbextension"
   ]
  },
  {
   "cell_type": "markdown",
   "id": "ab96ed7e",
   "metadata": {},
   "source": [
    "# Download Data"
   ]
  },
  {
   "cell_type": "markdown",
   "id": "95924cd5",
   "metadata": {},
   "source": [
    "Download data from Kaggle [here](https://www.kaggle.com/c/challenges-in-representation-learning-facial-expression-recognition-challenge/data) and unzip it to retrieve `fer2013.csv`  file and place the file to a folder named as `dataset`. The file path would be `./dataset/fer2013.csv`"
   ]
  },
  {
   "cell_type": "markdown",
   "id": "ab987ab3",
   "metadata": {},
   "source": [
    "# Prepare Data"
   ]
  },
  {
   "cell_type": "code",
   "execution_count": 3,
   "id": "d52bb0bf",
   "metadata": {},
   "outputs": [],
   "source": [
    "class Generate_data():\n",
    "    \"\"\"\n",
    "    Reference: https://github.com/omarsayed7/Deep-Emotion/blob/master/generate_data.py\n",
    "    \"\"\"\n",
    "    def __init__(self, datapath):\n",
    "        \"\"\"\n",
    "        Generate_data class\n",
    "        Two methods to be used\n",
    "        1-split_test\n",
    "        2-save_images\n",
    "        [Note] that you have to split the public and private from fer2013 file\n",
    "        \"\"\"\n",
    "        self.data_path = datapath\n",
    "\n",
    "    def split_test(self, train_filename='train', test_filename='finaltest', val_filename='val'):\n",
    "        \"\"\"\n",
    "        Helper function to split the validation and test data from general test file as it contains (Public test, Private test)\n",
    "            params:-\n",
    "                data_path = path to the folder that contains the test data file\n",
    "        \"\"\"\n",
    "        csv_path = self.data_path +\"/\"+ 'fer2013.csv'\n",
    "        fer_df = pd.read_csv(csv_path)\n",
    "        \n",
    "        train_data = fer_df[fer_df['Usage'] == 'Training'].reset_index(drop=True)\n",
    "        validation_data = fer_df[fer_df['Usage'] == 'PublicTest'].reset_index(drop=True)\n",
    "        test_data = fer_df[fer_df['Usage'] == 'PrivateTest'].reset_index(drop=True)\n",
    "        \n",
    "        train_data.to_csv(self.data_path+\"/\"+train_filename+\".csv\")\n",
    "        test_data.to_csv(self.data_path+\"/\"+test_filename+\".csv\")\n",
    "        validation_data.to_csv(self.data_path+\"/\"+val_filename+\".csv\")\n",
    "        \n",
    "        print(\"Done splitting the test file into validation & final test file\")\n",
    "\n",
    "    def str_to_image(self, str_img = ' '):\n",
    "        '''\n",
    "        Convert string pixels from the csv file into image object\n",
    "            params:- take an image string\n",
    "            return :- return PIL image object\n",
    "        '''\n",
    "        imgarray_str = str_img.split(' ')\n",
    "        imgarray = np.asarray(imgarray_str,dtype=np.uint8).reshape(48,48)\n",
    "        return Image.fromarray(imgarray)\n",
    "\n",
    "    def save_images(self, datatype='train'):\n",
    "        '''\n",
    "        save_images is a function responsible for saving images from data files e.g(train, test) in a desired folder\n",
    "            params:-\n",
    "            datatype= str e.g (train, val, finaltest)\n",
    "        '''\n",
    "        foldername= self.data_path+\"/\"+datatype\n",
    "        csvfile_path= self.data_path+\"/\"+datatype+'.csv'\n",
    "        if not os.path.exists(foldername):\n",
    "            os.mkdir(foldername)\n",
    "\n",
    "        data = pd.read_csv(csvfile_path)\n",
    "        images = data['pixels'] #dataframe to series pandas\n",
    "        numberofimages = images.shape[0]\n",
    "        for index in tqdm(range(numberofimages)):\n",
    "            img = self.str_to_image(images[index])\n",
    "            img.save(os.path.join(foldername,'{}{}.jpg'.format(datatype,index)),'JPEG')\n",
    "        print('Done saving {} data'.format((foldername)))"
   ]
  },
  {
   "cell_type": "code",
   "execution_count": 4,
   "id": "dbebacdf",
   "metadata": {},
   "outputs": [],
   "source": [
    "DATA_PATH = \"./dataset/\""
   ]
  },
  {
   "cell_type": "code",
   "execution_count": 5,
   "id": "a4772a98",
   "metadata": {},
   "outputs": [],
   "source": [
    "data_gen = Generate_data(DATA_PATH)"
   ]
  },
  {
   "cell_type": "markdown",
   "id": "628a25b6",
   "metadata": {},
   "source": [
    "# Split Images to Test and Validation"
   ]
  },
  {
   "cell_type": "code",
   "execution_count": 6,
   "id": "93d43457",
   "metadata": {},
   "outputs": [
    {
     "name": "stdout",
     "output_type": "stream",
     "text": [
      "Done splitting the test file into validation & final test file\n"
     ]
    }
   ],
   "source": [
    "data_gen.split_test()"
   ]
  },
  {
   "cell_type": "markdown",
   "id": "2f98d387",
   "metadata": {},
   "source": [
    "# Create Train Images"
   ]
  },
  {
   "cell_type": "code",
   "execution_count": 7,
   "id": "db42430f",
   "metadata": {},
   "outputs": [
    {
     "data": {
      "application/vnd.jupyter.widget-view+json": {
       "model_id": "d87ca3ebd5ae483184bec5a2ee1a9c4b",
       "version_major": 2,
       "version_minor": 0
      },
      "text/plain": [
       "  0%|          | 0/28709 [00:00<?, ?it/s]"
      ]
     },
     "metadata": {},
     "output_type": "display_data"
    },
    {
     "name": "stdout",
     "output_type": "stream",
     "text": [
      "Done saving ./dataset//train data\n"
     ]
    }
   ],
   "source": [
    "data_gen.save_images('train')"
   ]
  },
  {
   "cell_type": "markdown",
   "id": "906d1acc",
   "metadata": {},
   "source": [
    "# Create Test Images"
   ]
  },
  {
   "cell_type": "code",
   "execution_count": 8,
   "id": "45b414d3",
   "metadata": {},
   "outputs": [
    {
     "data": {
      "application/vnd.jupyter.widget-view+json": {
       "model_id": "9d2df464218c42128dd97e1a6a0768a7",
       "version_major": 2,
       "version_minor": 0
      },
      "text/plain": [
       "  0%|          | 0/3589 [00:00<?, ?it/s]"
      ]
     },
     "metadata": {},
     "output_type": "display_data"
    },
    {
     "name": "stdout",
     "output_type": "stream",
     "text": [
      "Done saving ./dataset//finaltest data\n"
     ]
    }
   ],
   "source": [
    "data_gen.save_images('finaltest')"
   ]
  },
  {
   "cell_type": "markdown",
   "id": "0aa19772",
   "metadata": {},
   "source": [
    "# Create Validation Images"
   ]
  },
  {
   "cell_type": "code",
   "execution_count": 9,
   "id": "55e79cf3",
   "metadata": {},
   "outputs": [
    {
     "data": {
      "application/vnd.jupyter.widget-view+json": {
       "model_id": "dff514f3041d41e5bac93ef7ffec542d",
       "version_major": 2,
       "version_minor": 0
      },
      "text/plain": [
       "  0%|          | 0/3589 [00:00<?, ?it/s]"
      ]
     },
     "metadata": {},
     "output_type": "display_data"
    },
    {
     "name": "stdout",
     "output_type": "stream",
     "text": [
      "Done saving ./dataset//val data\n"
     ]
    }
   ],
   "source": [
    "data_gen.save_images('val')"
   ]
  },
  {
   "cell_type": "code",
   "execution_count": null,
   "id": "02fac127",
   "metadata": {},
   "outputs": [],
   "source": []
  },
  {
   "cell_type": "markdown",
   "id": "34aacc6e",
   "metadata": {},
   "source": [
    "# EDA"
   ]
  },
  {
   "cell_type": "code",
   "execution_count": 2,
   "id": "a024100f",
   "metadata": {},
   "outputs": [
    {
     "data": {
      "image/png": "[encoded data removed]",
      "text/plain": [
       "<PIL.JpegImagePlugin.JpegImageFile image mode=L size=48x48 at 0x1EED32C64C0>"
      ]
     },
     "metadata": {},
     "output_type": "display_data"
    }
   ],
   "source": [
    "i = 10\n",
    "img = Image.open(f'./dataset/train/train{i}.jpg')\n",
    "\n",
    "display(img)"
   ]
  },
  {
   "cell_type": "code",
   "execution_count": 3,
   "id": "56b39dc2",
   "metadata": {},
   "outputs": [
    {
     "data": {
      "text/plain": [
       "(48, 48)"
      ]
     },
     "execution_count": 3,
     "metadata": {},
     "output_type": "execute_result"
    }
   ],
   "source": [
    "img_array = np.array(img)\n",
    "img_array.shape"
   ]
  },
  {
   "cell_type": "code",
   "execution_count": 5,
   "id": "14208e07",
   "metadata": {},
   "outputs": [
    {
     "data": {
      "text/plain": [
       "array([[ 27,  28,  21, ...,  37,  47,  34],\n",
       "       [ 27,  27,  22, ...,  36,  39,  38],\n",
       "       [ 26,  24,  21, ...,  36,  30,  40],\n",
       "       ...,\n",
       "       [ 29,  31,  26, ..., 115, 136, 147],\n",
       "       [ 28,  33,  26, ..., 149, 155, 164],\n",
       "       [ 27,  35,  26, ..., 172, 172, 177]], dtype=uint8)"
      ]
     },
     "execution_count": 5,
     "metadata": {},
     "output_type": "execute_result"
    }
   ],
   "source": [
    "img_array"
   ]
  },
  {
   "cell_type": "code",
   "execution_count": 6,
   "id": "513154f5",
   "metadata": {},
   "outputs": [
    {
     "data": {
      "text/plain": [
       "(48, 48, 3)"
      ]
     },
     "execution_count": 6,
     "metadata": {},
     "output_type": "execute_result"
    }
   ],
   "source": [
    "rgb_img = img.convert('RGB')\n",
    "rgb_img_array = np.array(rgb_img)\n",
    "rgb_img_array.shape"
   ]
  },
  {
   "cell_type": "code",
   "execution_count": 8,
   "id": "5b7f3d35",
   "metadata": {},
   "outputs": [
    {
     "data": {
      "text/plain": [
       "array([[ 27,  28,  21, ...,  37,  47,  34],\n",
       "       [ 27,  27,  22, ...,  36,  39,  38],\n",
       "       [ 26,  24,  21, ...,  36,  30,  40],\n",
       "       ...,\n",
       "       [ 29,  31,  26, ..., 115, 136, 147],\n",
       "       [ 28,  33,  26, ..., 149, 155, 164],\n",
       "       [ 27,  35,  26, ..., 172, 172, 177]], dtype=uint8)"
      ]
     },
     "execution_count": 8,
     "metadata": {},
     "output_type": "execute_result"
    }
   ],
   "source": [
    "rgb_img_array[:,:,0]"
   ]
  },
  {
   "cell_type": "code",
   "execution_count": 9,
   "id": "85120002",
   "metadata": {},
   "outputs": [
    {
     "data": {
      "text/plain": [
       "array([[ 27,  28,  21, ...,  37,  47,  34],\n",
       "       [ 27,  27,  22, ...,  36,  39,  38],\n",
       "       [ 26,  24,  21, ...,  36,  30,  40],\n",
       "       ...,\n",
       "       [ 29,  31,  26, ..., 115, 136, 147],\n",
       "       [ 28,  33,  26, ..., 149, 155, 164],\n",
       "       [ 27,  35,  26, ..., 172, 172, 177]], dtype=uint8)"
      ]
     },
     "execution_count": 9,
     "metadata": {},
     "output_type": "execute_result"
    }
   ],
   "source": [
    "rgb_img_array[:,:,1]"
   ]
  },
  {
   "cell_type": "code",
   "execution_count": 16,
   "id": "4e32c150",
   "metadata": {},
   "outputs": [
    {
     "data": {
      "text/plain": [
       "array([[ 27,  28,  21, ...,  37,  47,  34],\n",
       "       [ 27,  27,  22, ...,  36,  39,  38],\n",
       "       [ 26,  24,  21, ...,  36,  30,  40],\n",
       "       ...,\n",
       "       [ 29,  31,  26, ..., 115, 136, 147],\n",
       "       [ 28,  33,  26, ..., 149, 155, 164],\n",
       "       [ 27,  35,  26, ..., 172, 172, 177]], dtype=uint8)"
      ]
     },
     "execution_count": 16,
     "metadata": {},
     "output_type": "execute_result"
    }
   ],
   "source": [
    "rgb_img_array[:,:,2]"
   ]
  },
  {
   "cell_type": "code",
   "execution_count": 11,
   "id": "ee1ec0d5",
   "metadata": {},
   "outputs": [
    {
     "data": {
      "text/plain": [
       "array([[[ 27,  27,  27],\n",
       "        [ 28,  28,  28],\n",
       "        [ 21,  21,  21],\n",
       "        ...,\n",
       "        [ 37,  37,  37],\n",
       "        [ 47,  47,  47],\n",
       "        [ 34,  34,  34]],\n",
       "\n",
       "       [[ 27,  27,  27],\n",
       "        [ 27,  27,  27],\n",
       "        [ 22,  22,  22],\n",
       "        ...,\n",
       "        [ 36,  36,  36],\n",
       "        [ 39,  39,  39],\n",
       "        [ 38,  38,  38]],\n",
       "\n",
       "       [[ 26,  26,  26],\n",
       "        [ 24,  24,  24],\n",
       "        [ 21,  21,  21],\n",
       "        ...,\n",
       "        [ 36,  36,  36],\n",
       "        [ 30,  30,  30],\n",
       "        [ 40,  40,  40]],\n",
       "\n",
       "       ...,\n",
       "\n",
       "       [[ 29,  29,  29],\n",
       "        [ 31,  31,  31],\n",
       "        [ 26,  26,  26],\n",
       "        ...,\n",
       "        [115, 115, 115],\n",
       "        [136, 136, 136],\n",
       "        [147, 147, 147]],\n",
       "\n",
       "       [[ 28,  28,  28],\n",
       "        [ 33,  33,  33],\n",
       "        [ 26,  26,  26],\n",
       "        ...,\n",
       "        [149, 149, 149],\n",
       "        [155, 155, 155],\n",
       "        [164, 164, 164]],\n",
       "\n",
       "       [[ 27,  27,  27],\n",
       "        [ 35,  35,  35],\n",
       "        [ 26,  26,  26],\n",
       "        ...,\n",
       "        [172, 172, 172],\n",
       "        [172, 172, 172],\n",
       "        [177, 177, 177]]], dtype=uint8)"
      ]
     },
     "execution_count": 11,
     "metadata": {},
     "output_type": "execute_result"
    }
   ],
   "source": [
    "rgb_img_array"
   ]
  }
 ],
 "metadata": {
  "kernelspec": {
   "display_name": "Python 3 (ipykernel)",
   "language": "python",
   "name": "python3"
  },
  "language_info": {
   "codemirror_mode": {
    "name": "ipython",
    "version": 3
   },
   "file_extension": ".py",
   "mimetype": "text/x-python",
   "name": "python",
   "nbconvert_exporter": "python",
   "pygments_lexer": "ipython3",
   "version": "3.8.10"
  }
 },
 "nbformat": 4,
 "nbformat_minor": 5
}
