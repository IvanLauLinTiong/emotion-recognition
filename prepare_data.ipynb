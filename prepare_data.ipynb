{
 "cells": [
  {
   "cell_type": "code",
   "execution_count": 7,
   "id": "e69294f1",
   "metadata": {},
   "outputs": [],
   "source": [
    "import pandas as pd\n",
    "import numpy as np\n",
    "from PIL import Image\n",
    "import os\n",
    "from tqdm.auto import tqdm"
   ]
  },
  {
   "cell_type": "code",
   "execution_count": 2,
   "id": "ca49f876",
   "metadata": {},
   "outputs": [
    {
     "name": "stderr",
     "output_type": "stream",
     "text": [
      "Enabling notebook extension jupyter-js-widgets/extension...\n",
      "      - Validating: ok\n"
     ]
    }
   ],
   "source": [
    "# Uncomment this line to enable nbextension and restart the kernel before proceeding to next step\n",
    "!jupyter nbextension enable --py widgetsnbextension"
   ]
  },
  {
   "cell_type": "markdown",
   "id": "ab96ed7e",
   "metadata": {},
   "source": [
    "# Download Data"
   ]
  },
  {
   "cell_type": "markdown",
   "id": "95924cd5",
   "metadata": {},
   "source": [
    "Download data from Kaggle [here](https://www.kaggle.com/c/challenges-in-representation-learning-facial-expression-recognition-challenge/data) and unzip it to a folder named as `dataset`."
   ]
  },
  {
   "cell_type": "markdown",
   "id": "ab987ab3",
   "metadata": {},
   "source": [
    "# Prepare Data"
   ]
  },
  {
   "cell_type": "code",
   "execution_count": 10,
   "id": "d52bb0bf",
   "metadata": {},
   "outputs": [],
   "source": [
    "class Generate_data():\n",
    "    \"\"\"\n",
    "    Reference: https://github.com/omarsayed7/Deep-Emotion/blob/master/generate_data.py\n",
    "    \"\"\"\n",
    "    def __init__(self, datapath):\n",
    "        \"\"\"\n",
    "        Generate_data class\n",
    "        Two methods to be used\n",
    "        1-split_test\n",
    "        2-save_images\n",
    "        [Note] that you have to split the public and private from fer2013 file\n",
    "        \"\"\"\n",
    "        self.data_path = datapath\n",
    "\n",
    "    def split_test(self, test_filename = 'finaltest', val_filename= 'val'):\n",
    "        \"\"\"\n",
    "        Helper function to split the validation and test data from general test file as it contains (Public test, Private test)\n",
    "            params:-\n",
    "                data_path = path to the folder that contains the test data file\n",
    "        \"\"\"\n",
    "        csv_path = self.data_path +\"/\"+ 'test.csv'\n",
    "        test = pd.read_csv(csv_path)\n",
    "        validation_data = pd.DataFrame(test.iloc[:3589,:])\n",
    "        test_data = pd.DataFrame(test.iloc[3589:,:])\n",
    "        test_data.to_csv(self.data_path+\"/\"+test_filename+\".csv\")\n",
    "        validation_data.to_csv(self.data_path+\"/\"+val_filename+\".csv\")\n",
    "        print(\"Done splitting the test file into validation & final test file\")\n",
    "\n",
    "    def str_to_image(self, str_img = ' '):\n",
    "        '''\n",
    "        Convert string pixels from the csv file into image object\n",
    "            params:- take an image string\n",
    "            return :- return PIL image object\n",
    "        '''\n",
    "        imgarray_str = str_img.split(' ')\n",
    "        imgarray = np.asarray(imgarray_str,dtype=np.uint8).reshape(48,48)\n",
    "        return Image.fromarray(imgarray)\n",
    "\n",
    "    def save_images(self, datatype='train'):\n",
    "        '''\n",
    "        save_images is a function responsible for saving images from data files e.g(train, test) in a desired folder\n",
    "            params:-\n",
    "            datatype= str e.g (train, val, finaltest)\n",
    "        '''\n",
    "        foldername= self.data_path+\"/\"+datatype\n",
    "        csvfile_path= self.data_path+\"/\"+datatype+'.csv'\n",
    "        if not os.path.exists(foldername):\n",
    "            os.mkdir(foldername)\n",
    "\n",
    "        data = pd.read_csv(csvfile_path)\n",
    "        images = data['pixels'] #dataframe to series pandas\n",
    "        numberofimages = images.shape[0]\n",
    "        for index in tqdm(range(numberofimages)):\n",
    "            img = self.str_to_image(images[index])\n",
    "            img.save(os.path.join(foldername,'{}{}.jpg'.format(datatype,index)),'JPEG')\n",
    "        print('Done saving {} data'.format((foldername)))"
   ]
  },
  {
   "cell_type": "code",
   "execution_count": 12,
   "id": "dbebacdf",
   "metadata": {},
   "outputs": [],
   "source": [
    "DATA_PATH = \"./dataset/\""
   ]
  },
  {
   "cell_type": "code",
   "execution_count": 13,
   "id": "a4772a98",
   "metadata": {},
   "outputs": [],
   "source": [
    "data_gen = Generate_data(DATA_PATH)"
   ]
  },
  {
   "cell_type": "markdown",
   "id": "628a25b6",
   "metadata": {},
   "source": [
    "# Split Images to Test and Validation"
   ]
  },
  {
   "cell_type": "code",
   "execution_count": 14,
   "id": "93d43457",
   "metadata": {},
   "outputs": [
    {
     "name": "stdout",
     "output_type": "stream",
     "text": [
      "Done splitting the test file into validation & final test file\n"
     ]
    }
   ],
   "source": [
    "data_gen.split_test()"
   ]
  },
  {
   "cell_type": "markdown",
   "id": "2f98d387",
   "metadata": {},
   "source": [
    "# Create Train Images"
   ]
  },
  {
   "cell_type": "code",
   "execution_count": 15,
   "id": "db42430f",
   "metadata": {},
   "outputs": [
    {
     "data": {
      "application/vnd.jupyter.widget-view+json": {
       "model_id": "d010ff2f989d4dc9a47b86d1f371b1f2",
       "version_major": 2,
       "version_minor": 0
      },
      "text/plain": [
       "  0%|          | 0/28709 [00:00<?, ?it/s]"
      ]
     },
     "metadata": {},
     "output_type": "display_data"
    },
    {
     "name": "stdout",
     "output_type": "stream",
     "text": [
      "Done saving ./dataset//train data\n"
     ]
    }
   ],
   "source": [
    "data_gen.save_images('train')"
   ]
  },
  {
   "cell_type": "markdown",
   "id": "906d1acc",
   "metadata": {},
   "source": [
    "# Create Test Images"
   ]
  },
  {
   "cell_type": "code",
   "execution_count": 16,
   "id": "45b414d3",
   "metadata": {},
   "outputs": [
    {
     "data": {
      "application/vnd.jupyter.widget-view+json": {
       "model_id": "5f92a819f56f46338db9984d5e0403e9",
       "version_major": 2,
       "version_minor": 0
      },
      "text/plain": [
       "  0%|          | 0/3589 [00:00<?, ?it/s]"
      ]
     },
     "metadata": {},
     "output_type": "display_data"
    },
    {
     "name": "stdout",
     "output_type": "stream",
     "text": [
      "Done saving ./dataset//finaltest data\n"
     ]
    }
   ],
   "source": [
    "data_gen.save_images('finaltest')"
   ]
  },
  {
   "cell_type": "markdown",
   "id": "0aa19772",
   "metadata": {},
   "source": [
    "# Create Validation Images"
   ]
  },
  {
   "cell_type": "code",
   "execution_count": 17,
   "id": "55e79cf3",
   "metadata": {},
   "outputs": [
    {
     "data": {
      "application/vnd.jupyter.widget-view+json": {
       "model_id": "3e31a4a519e74da29188825bb9cc913a",
       "version_major": 2,
       "version_minor": 0
      },
      "text/plain": [
       "  0%|          | 0/3589 [00:00<?, ?it/s]"
      ]
     },
     "metadata": {},
     "output_type": "display_data"
    },
    {
     "name": "stdout",
     "output_type": "stream",
     "text": [
      "Done saving ./dataset//val data\n"
     ]
    }
   ],
   "source": [
    "data_gen.save_images('val')"
   ]
  },
  {
   "cell_type": "code",
   "execution_count": null,
   "id": "02fac127",
   "metadata": {},
   "outputs": [],
   "source": []
  },
  {
   "cell_type": "code",
   "execution_count": null,
   "id": "8f8dc376",
   "metadata": {},
   "outputs": [],
   "source": []
  }
 ],
 "metadata": {
  "kernelspec": {
   "display_name": "Python 3 (ipykernel)",
   "language": "python",
   "name": "python3"
  },
  "language_info": {
   "codemirror_mode": {
    "name": "ipython",
    "version": 3
   },
   "file_extension": ".py",
   "mimetype": "text/x-python",
   "name": "python",
   "nbconvert_exporter": "python",
   "pygments_lexer": "ipython3",
   "version": "3.8.10"
  }
 },
 "nbformat": 4,
 "nbformat_minor": 5
}
